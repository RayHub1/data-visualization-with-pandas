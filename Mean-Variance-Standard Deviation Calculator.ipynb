{
 "cells": [
  {
   "cell_type": "code",
   "execution_count": 1,
   "id": "259d0e76-9f01-4a7e-befd-8b9ee04eee51",
   "metadata": {},
   "outputs": [],
   "source": [
    "import pandas as pd"
   ]
  },
  {
   "cell_type": "code",
   "execution_count": 2,
   "id": "7e2f2b7e-e2e9-4293-a589-dcd357e49c4c",
   "metadata": {},
   "outputs": [],
   "source": [
    "import numpy as np"
   ]
  },
  {
   "cell_type": "code",
   "execution_count": 38,
   "id": "05427bc1-0229-43c7-8a1d-11481a260e5e",
   "metadata": {},
   "outputs": [],
   "source": [
    "def calculate(input):\n",
    "    if len(input) != 9:\n",
    "        raise ValueError('List must contain nine numbers')\n",
    "    a = np.array(input).reshape(3,3)\n",
    "    cal = {\n",
    "          'mean': [a.mean(0).tolist(), a.mean(1).tolist(), a.mean()],\n",
    "          'variance': [a.var(0).tolist(), a.var(1).tolist(), a.var()],\n",
    "          'standard deviation': [a.std(0).tolist(), a.std(1).tolist(), a.std()],\n",
    "          'max': [a.max(0).tolist(), a.max(1).tolist(), a.max()],\n",
    "          'min': [a.min(0).tolist(), a.min(1).tolist(), a.min()],\n",
    "         'sum': [a.sum(0).tolist(), a.sum(1).tolist(), a.sum()]\n",
    "    }\n",
    "    \n",
    "\n",
    "    return cal"
   ]
  },
  {
   "cell_type": "code",
   "execution_count": 39,
   "id": "99c7bae3-9952-424c-9520-c03266875dca",
   "metadata": {},
   "outputs": [
    {
     "name": "stdout",
     "output_type": "stream",
     "text": [
      "{'mean': [[3.0, 4.0, 5.0], [1.0, 4.0, 7.0], 4.0], 'variance': [[6.0, 6.0, 6.0], [0.6666666666666666, 0.6666666666666666, 0.6666666666666666], 6.666666666666667], 'standard deviation': [[2.449489742783178, 2.449489742783178, 2.449489742783178], [0.816496580927726, 0.816496580927726, 0.816496580927726], 2.581988897471611], 'max': [[6, 7, 8], [2, 5, 8], 8], 'min': [[0, 1, 2], [0, 3, 6], 0], 'sum': [[9, 12, 15], [3, 12, 21], 36]}\n"
     ]
    }
   ],
   "source": [
    "print(calculate([0,1,2,3,4,5,6,7,8]))"
   ]
  },
  {
   "cell_type": "code",
   "execution_count": 30,
   "id": "633be13d-7d25-4f21-a9e9-1b3c0a87172f",
   "metadata": {},
   "outputs": [
    {
     "name": "stdout",
     "output_type": "stream",
     "text": [
      "<bound method Kernel.raw_input of <ipykernel.ipkernel.IPythonKernel object at 0x0000028D9D27F9D0>>\n"
     ]
    }
   ],
   "source": [
    " print(input)"
   ]
  },
  {
   "cell_type": "code",
   "execution_count": 11,
   "id": "9fda8d6e-d2a7-4e04-ada9-95015d0b9d5f",
   "metadata": {},
   "outputs": [
    {
     "ename": "ValueError",
     "evalue": "cannot reshape array of size 1 into shape (3,3)",
     "output_type": "error",
     "traceback": [
      "\u001b[1;31m---------------------------------------------------------------------------\u001b[0m",
      "\u001b[1;31mValueError\u001b[0m                                Traceback (most recent call last)",
      "Cell \u001b[1;32mIn[11], line 1\u001b[0m\n\u001b[1;32m----> 1\u001b[0m a \u001b[38;5;241m=\u001b[39m \u001b[43mnp\u001b[49m\u001b[38;5;241;43m.\u001b[39;49m\u001b[43marray\u001b[49m\u001b[43m(\u001b[49m\u001b[38;5;28;43minput\u001b[39;49m\u001b[43m)\u001b[49m\u001b[38;5;241;43m.\u001b[39;49m\u001b[43mreshape\u001b[49m\u001b[43m(\u001b[49m\u001b[38;5;241;43m3\u001b[39;49m\u001b[43m,\u001b[49m\u001b[38;5;241;43m3\u001b[39;49m\u001b[43m)\u001b[49m\n",
      "\u001b[1;31mValueError\u001b[0m: cannot reshape array of size 1 into shape (3,3)"
     ]
    }
   ],
   "source": [
    " "
   ]
  },
  {
   "cell_type": "code",
   "execution_count": null,
   "id": "471ccd84-f902-4e23-b296-8ba4d67585a0",
   "metadata": {},
   "outputs": [],
   "source": []
  }
 ],
 "metadata": {
  "kernelspec": {
   "display_name": "Python 3 (ipykernel)",
   "language": "python",
   "name": "python3"
  },
  "language_info": {
   "codemirror_mode": {
    "name": "ipython",
    "version": 3
   },
   "file_extension": ".py",
   "mimetype": "text/x-python",
   "name": "python",
   "nbconvert_exporter": "python",
   "pygments_lexer": "ipython3",
   "version": "3.11.5"
  }
 },
 "nbformat": 4,
 "nbformat_minor": 5
}
