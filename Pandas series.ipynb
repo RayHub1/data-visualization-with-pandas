{
 "cells": [
  {
   "cell_type": "code",
   "execution_count": 1,
   "id": "220214df-41a9-4a3d-90eb-b7c6ef939b91",
   "metadata": {},
   "outputs": [],
   "source": [
    "import numpy as np"
   ]
  },
  {
   "cell_type": "code",
   "execution_count": 22,
   "id": "8265fab7-8cde-444e-8001-fbf180a468a3",
   "metadata": {},
   "outputs": [],
   "source": [
    "import pandas as pd"
   ]
  },
  {
   "cell_type": "code",
   "execution_count": 3,
   "id": "9477bcc4-2f50-4b19-97ee-90d44670bbfa",
   "metadata": {},
   "outputs": [],
   "source": [
    "empty_series = pd.Series()"
   ]
  },
  {
   "cell_type": "code",
   "execution_count": 4,
   "id": "2e0ba847-4208-453e-a763-de8d6a7ecad3",
   "metadata": {},
   "outputs": [
    {
     "name": "stdout",
     "output_type": "stream",
     "text": [
      "['A', 'B', 'C'] <class 'list'>\n"
     ]
    }
   ],
   "source": [
    "X = ['A','B','C']\n",
    "print(X, type(X))"
   ]
  },
  {
   "cell_type": "code",
   "execution_count": 5,
   "id": "5a1060e0-6457-45f5-8342-1e7ce0f24a8b",
   "metadata": {},
   "outputs": [
    {
     "name": "stdout",
     "output_type": "stream",
     "text": [
      "0    A\n",
      "1    B\n",
      "2    C\n",
      "dtype: object <class 'pandas.core.series.Series'>\n"
     ]
    }
   ],
   "source": [
    "Y = pd.Series(X)\n",
    "print(Y, type(Y))"
   ]
  },
  {
   "cell_type": "code",
   "execution_count": 8,
   "id": "e7acc7c6-b036-4461-8d3a-8569c55b2e64",
   "metadata": {},
   "outputs": [],
   "source": [
    "X = pd.Series(['A','B','C'])"
   ]
  },
  {
   "cell_type": "code",
   "execution_count": 9,
   "id": "ef29350a-9da6-4d94-8582-34822a64e4d2",
   "metadata": {},
   "outputs": [],
   "source": [
    "X.name = 'My letters' "
   ]
  },
  {
   "cell_type": "code",
   "execution_count": 10,
   "id": "390d3435-68dc-4e2b-a6bc-75995c0952a1",
   "metadata": {},
   "outputs": [
    {
     "name": "stdout",
     "output_type": "stream",
     "text": [
      "0    A\n",
      "1    B\n",
      "2    C\n",
      "Name: My letters, dtype: object <class 'pandas.core.series.Series'>\n"
     ]
    }
   ],
   "source": [
    "Y = pd.Series(X)\n",
    "print(Y, type(Y))"
   ]
  },
  {
   "cell_type": "code",
   "execution_count": 11,
   "id": "dac6136b-ca57-4e72-9d55-6be5ad34780e",
   "metadata": {},
   "outputs": [
    {
     "data": {
      "text/plain": [
       "array(['A', 'B', 'C'], dtype=object)"
      ]
     },
     "execution_count": 11,
     "metadata": {},
     "output_type": "execute_result"
    }
   ],
   "source": [
    "X.values"
   ]
  },
  {
   "cell_type": "code",
   "execution_count": 12,
   "id": "5275198e-553f-43e0-9cc9-8bf5be6b9368",
   "metadata": {},
   "outputs": [],
   "source": [
    "X = pd.Series(['A','B','C'])\n",
    "index_names = ['first', 'second', 'third']"
   ]
  },
  {
   "cell_type": "code",
   "execution_count": 13,
   "id": "bfc37e05-38b5-4822-9799-3a9461bc2744",
   "metadata": {},
   "outputs": [],
   "source": [
    "X.index = index_names"
   ]
  },
  {
   "cell_type": "code",
   "execution_count": 14,
   "id": "f1044633-45bb-4ced-9274-4857d0704cfa",
   "metadata": {},
   "outputs": [
    {
     "data": {
      "text/plain": [
       "first     A\n",
       "second    B\n",
       "third     C\n",
       "dtype: object"
      ]
     },
     "execution_count": 14,
     "metadata": {},
     "output_type": "execute_result"
    }
   ],
   "source": [
    "X"
   ]
  },
  {
   "cell_type": "code",
   "execution_count": 15,
   "id": "d66f44d8-4259-4464-8de6-d8101001fa23",
   "metadata": {},
   "outputs": [
    {
     "data": {
      "text/plain": [
       "'A'"
      ]
     },
     "execution_count": 15,
     "metadata": {},
     "output_type": "execute_result"
    }
   ],
   "source": [
    "X['first']"
   ]
  },
  {
   "cell_type": "code",
   "execution_count": 16,
   "id": "8f1c162f-57bc-4265-8ca5-0b06e469439f",
   "metadata": {},
   "outputs": [
    {
     "data": {
      "text/plain": [
       "<bound method Series.pop of first     A\n",
       "second    B\n",
       "third     C\n",
       "dtype: object>"
      ]
     },
     "execution_count": 16,
     "metadata": {},
     "output_type": "execute_result"
    }
   ],
   "source": [
    "X.pop"
   ]
  },
  {
   "cell_type": "code",
   "execution_count": 17,
   "id": "039be11b-6d2a-4a66-8b53-0f9327183018",
   "metadata": {},
   "outputs": [
    {
     "data": {
      "text/plain": [
       "first     A\n",
       "second    B\n",
       "third     C\n",
       "dtype: object"
      ]
     },
     "execution_count": 17,
     "metadata": {},
     "output_type": "execute_result"
    }
   ],
   "source": [
    "X"
   ]
  },
  {
   "cell_type": "markdown",
   "id": "4c3fffcc-04cc-497a-9e9a-aba537ae498f",
   "metadata": {},
   "source": [
    "Given the X pandas Series, show all middle elements"
   ]
  },
  {
   "cell_type": "code",
   "execution_count": 18,
   "id": "3c728738-eb47-49a0-a729-965fc79014d3",
   "metadata": {},
   "outputs": [
    {
     "data": {
      "text/plain": [
       "second    B\n",
       "dtype: object"
      ]
     },
     "execution_count": 18,
     "metadata": {},
     "output_type": "execute_result"
    }
   ],
   "source": [
    "X[1:-1]"
   ]
  },
  {
   "cell_type": "markdown",
   "id": "8b0a72b1-3c59-4ee0-81b8-d40e37d1ea3b",
   "metadata": {},
   "source": [
    "Given the X pandas Series, show the elements in reverse position"
   ]
  },
  {
   "cell_type": "code",
   "execution_count": 19,
   "id": "a518e567-6c38-4658-9733-d43c9ab83fc2",
   "metadata": {},
   "outputs": [
    {
     "data": {
      "text/plain": [
       "third     C\n",
       "second    B\n",
       "first     A\n",
       "dtype: object"
      ]
     },
     "execution_count": 19,
     "metadata": {},
     "output_type": "execute_result"
    }
   ],
   "source": [
    "X[::-1]"
   ]
  },
  {
   "cell_type": "markdown",
   "id": "28e12f19-ebb7-4993-aa4f-81f80f090c99",
   "metadata": {},
   "source": [
    "Given the X pandas Series, show the first and last elements"
   ]
  },
  {
   "cell_type": "code",
   "execution_count": 20,
   "id": "a2664d61-2447-4d2f-993b-84637fc3b819",
   "metadata": {},
   "outputs": [
    {
     "name": "stderr",
     "output_type": "stream",
     "text": [
      "C:\\Users\\HP\\AppData\\Local\\Temp\\ipykernel_7452\\2416044086.py:1: FutureWarning: Series.__getitem__ treating keys as positions is deprecated. In a future version, integer keys will always be treated as labels (consistent with DataFrame behavior). To access a value by position, use `ser.iloc[pos]`\n",
      "  X[[0, -1]]\n"
     ]
    },
    {
     "data": {
      "text/plain": [
       "first    A\n",
       "third    C\n",
       "dtype: object"
      ]
     },
     "execution_count": 20,
     "metadata": {},
     "output_type": "execute_result"
    }
   ],
   "source": [
    "X[[0, -1]]\n"
   ]
  },
  {
   "cell_type": "markdown",
   "id": "066fc709-9a6a-4953-90d9-cc8e82e32e5e",
   "metadata": {},
   "source": [
    "Convert the given integer pandas Series to float"
   ]
  },
  {
   "cell_type": "code",
   "execution_count": 23,
   "id": "b5aed475-27e2-43e7-93ce-7416dc2d9dbb",
   "metadata": {},
   "outputs": [],
   "source": [
    "X = pd.Series([1,2,3,4,5],\n",
    "              index=['first','second','third','forth','fifth'])\n"
   ]
  },
  {
   "cell_type": "code",
   "execution_count": 24,
   "id": "ad08d602-0996-4854-beb6-47171ab241b5",
   "metadata": {},
   "outputs": [
    {
     "ename": "NameError",
     "evalue": "name 'np' is not defined",
     "output_type": "error",
     "traceback": [
      "\u001b[1;31m---------------------------------------------------------------------------\u001b[0m",
      "\u001b[1;31mNameError\u001b[0m                                 Traceback (most recent call last)",
      "Cell \u001b[1;32mIn[24], line 1\u001b[0m\n\u001b[1;32m----> 1\u001b[0m pd\u001b[38;5;241m.\u001b[39mSeries(X, dtype\u001b[38;5;241m=\u001b[39m\u001b[43mnp\u001b[49m\u001b[38;5;241m.\u001b[39mfloat)\n",
      "\u001b[1;31mNameError\u001b[0m: name 'np' is not defined"
     ]
    }
   ],
   "source": [
    "pd.Series(X, dtype=np.float)\n"
   ]
  },
  {
   "cell_type": "markdown",
   "id": "baa7a014-398f-488c-9ce7-c320e0c2686b",
   "metadata": {},
   "source": [
    "Reverse the given pandas Series (first element becomes last)"
   ]
  },
  {
   "cell_type": "code",
   "execution_count": 25,
   "id": "10e23b41-e25b-4e36-8e7c-529657990025",
   "metadata": {},
   "outputs": [],
   "source": [
    "X = pd.Series([1,2,3,4,5],\n",
    "              index=['first','second','third','forth','fifth'])"
   ]
  },
  {
   "cell_type": "code",
   "execution_count": 26,
   "id": "3516c3b7-1b86-4312-ae62-fcbe37f7661b",
   "metadata": {},
   "outputs": [
    {
     "data": {
      "text/plain": [
       "fifth     5\n",
       "forth     4\n",
       "third     3\n",
       "second    2\n",
       "first     1\n",
       "dtype: int64"
      ]
     },
     "execution_count": 26,
     "metadata": {},
     "output_type": "execute_result"
    }
   ],
   "source": [
    "X[::-1]"
   ]
  },
  {
   "cell_type": "markdown",
   "id": "8e72d2c7-de22-4b12-bed1-e6a81ac5f764",
   "metadata": {},
   "source": [
    "Order (sort) the given pandas Series"
   ]
  },
  {
   "cell_type": "code",
   "execution_count": 27,
   "id": "89af255d-91f9-455d-9e46-baece4e1e8fb",
   "metadata": {},
   "outputs": [],
   "source": [
    "X = pd.Series([4,2,5,1,3],\n",
    "              index=['forth','second','fifth','first','third'])\n"
   ]
  },
  {
   "cell_type": "code",
   "execution_count": 28,
   "id": "65101602-adf4-497e-a694-c029de4eace4",
   "metadata": {},
   "outputs": [],
   "source": [
    "X = X.sort_values()"
   ]
  },
  {
   "cell_type": "code",
   "execution_count": 29,
   "id": "f722caba-efde-431e-8538-e0dfa3cf47e0",
   "metadata": {},
   "outputs": [
    {
     "data": {
      "text/plain": [
       "first     1\n",
       "second    2\n",
       "third     3\n",
       "forth     4\n",
       "fifth     5\n",
       "dtype: int64"
      ]
     },
     "execution_count": 29,
     "metadata": {},
     "output_type": "execute_result"
    }
   ],
   "source": [
    "X"
   ]
  },
  {
   "cell_type": "markdown",
   "id": "64d7bd20-18db-4c88-baeb-edaa0e97618f",
   "metadata": {},
   "source": [
    "Given the X pandas Series, set the fifth element equal to 10"
   ]
  },
  {
   "cell_type": "code",
   "execution_count": 30,
   "id": "f2d29b73-052e-4ba2-b83c-fca94464f099",
   "metadata": {},
   "outputs": [],
   "source": [
    "X = pd.Series([1,2,3,4,5],\n",
    "              index=['A','B','C','D','E'])"
   ]
  },
  {
   "cell_type": "code",
   "execution_count": 31,
   "id": "4afee62e-f923-4b04-8c69-ea60d2f2edcd",
   "metadata": {},
   "outputs": [
    {
     "name": "stderr",
     "output_type": "stream",
     "text": [
      "C:\\Users\\HP\\AppData\\Local\\Temp\\ipykernel_7452\\390577917.py:1: FutureWarning: Series.__setitem__ treating keys as positions is deprecated. In a future version, integer keys will always be treated as labels (consistent with DataFrame behavior). To set a value by position, use `ser.iloc[pos] = value`\n",
      "  X[4] = 10\n"
     ]
    }
   ],
   "source": [
    "X[4] = 10\n"
   ]
  },
  {
   "cell_type": "code",
   "execution_count": 32,
   "id": "d6cff291-59a9-428d-b32d-2d3cfd58efc1",
   "metadata": {},
   "outputs": [
    {
     "data": {
      "text/plain": [
       "A     1\n",
       "B     2\n",
       "C     3\n",
       "D     4\n",
       "E    10\n",
       "dtype: int64"
      ]
     },
     "execution_count": 32,
     "metadata": {},
     "output_type": "execute_result"
    }
   ],
   "source": [
    "X"
   ]
  },
  {
   "cell_type": "markdown",
   "id": "42d94c61-a4fa-4343-890f-090a64749451",
   "metadata": {},
   "source": [
    "Given the X pandas Series, add 5 to every element"
   ]
  },
  {
   "cell_type": "code",
   "execution_count": 33,
   "id": "5a6d9cc2-bb9b-42a9-9fed-14c83dcc1507",
   "metadata": {},
   "outputs": [
    {
     "data": {
      "text/plain": [
       "0     6\n",
       "1     7\n",
       "2     8\n",
       "3     9\n",
       "4    10\n",
       "dtype: int64"
      ]
     },
     "execution_count": 33,
     "metadata": {},
     "output_type": "execute_result"
    }
   ],
   "source": [
    "X = pd.Series([1,2,3,4,5])\n",
    "\n",
    "X + 5"
   ]
  },
  {
   "cell_type": "markdown",
   "id": "87b68423-ff4e-424e-b3d9-bfe7d71a9b99",
   "metadata": {},
   "source": [
    "Series boolean arrays (also called masks)"
   ]
  },
  {
   "cell_type": "markdown",
   "id": "b92f09ee-dc9f-4359-a64f-7f7b5bd8c221",
   "metadata": {},
   "source": [
    "Given the X pandas Series, make a mask showing negative elements"
   ]
  },
  {
   "cell_type": "code",
   "execution_count": 40,
   "id": "c7b778b3-b061-4d98-996b-a078e74c6e6c",
   "metadata": {},
   "outputs": [
    {
     "data": {
      "text/plain": [
       "0     True\n",
       "1    False\n",
       "2     True\n",
       "3     True\n",
       "4    False\n",
       "5    False\n",
       "6     True\n",
       "7     True\n",
       "8     True\n",
       "9    False\n",
       "dtype: bool"
      ]
     },
     "execution_count": 40,
     "metadata": {},
     "output_type": "execute_result"
    }
   ],
   "source": [
    "X = pd.Series([-1,2,0,-4,5,6,0,0,-9,10])\n",
    "\n",
    "mask = X <= 0\n",
    "mask"
   ]
  },
  {
   "cell_type": "markdown",
   "id": "117b333b-747d-4efe-9566-77c9068d41ca",
   "metadata": {},
   "source": [
    "Given the X pandas Series, get the negative elements"
   ]
  },
  {
   "cell_type": "code",
   "execution_count": 41,
   "id": "6d7493bc-e662-476a-86d3-9444f5a4881a",
   "metadata": {},
   "outputs": [
    {
     "data": {
      "text/plain": [
       "0   -1\n",
       "2    0\n",
       "3   -4\n",
       "6    0\n",
       "7    0\n",
       "8   -9\n",
       "dtype: int64"
      ]
     },
     "execution_count": 41,
     "metadata": {},
     "output_type": "execute_result"
    }
   ],
   "source": [
    "X = pd.Series([-1,2,0,-4,5,6,0,0,-9,10])\n",
    "\n",
    "mask = X <= 0\n",
    "X[mask]"
   ]
  },
  {
   "cell_type": "markdown",
   "id": "de34c00b-b427-48ea-87c3-32ce31fec712",
   "metadata": {},
   "source": [
    "Given the X pandas Series, get numbers higher than 5"
   ]
  },
  {
   "cell_type": "code",
   "execution_count": 42,
   "id": "acf23798-08a8-4891-bdae-df9a728b57a8",
   "metadata": {},
   "outputs": [
    {
     "data": {
      "text/plain": [
       "5     6\n",
       "9    10\n",
       "dtype: int64"
      ]
     },
     "execution_count": 42,
     "metadata": {},
     "output_type": "execute_result"
    }
   ],
   "source": [
    "X = pd.Series([-1,2,0,-4,5,6,0,0,-9,10])\n",
    "\n",
    "mask = X > 5\n",
    "X[mask]"
   ]
  },
  {
   "cell_type": "markdown",
   "id": "979ed197-d7e0-4bda-a499-7c7d67e211e2",
   "metadata": {},
   "source": [
    "Given the X pandas Series, get numbers higher than the elements mean"
   ]
  },
  {
   "cell_type": "code",
   "execution_count": 43,
   "id": "adce5f5a-d7f6-47e5-90b7-b0defd343a1b",
   "metadata": {},
   "outputs": [
    {
     "data": {
      "text/plain": [
       "1     2\n",
       "4     5\n",
       "5     6\n",
       "9    10\n",
       "dtype: int64"
      ]
     },
     "execution_count": 43,
     "metadata": {},
     "output_type": "execute_result"
    }
   ],
   "source": [
    "X = pd.Series([-1,2,0,-4,5,6,0,0,-9,10])\n",
    "\n",
    "mask = X > X.mean()\n",
    "X[mask]"
   ]
  },
  {
   "cell_type": "markdown",
   "id": "6aaca9f1-8463-4ac2-9c9b-4f6e03bbb86b",
   "metadata": {},
   "source": [
    "Given the X pandas Series, get numbers equal to 2 or 10"
   ]
  },
  {
   "cell_type": "code",
   "execution_count": 44,
   "id": "93418ee2-08e9-43e9-8598-fd91dd393afa",
   "metadata": {},
   "outputs": [
    {
     "data": {
      "text/plain": [
       "1     2\n",
       "9    10\n",
       "dtype: int64"
      ]
     },
     "execution_count": 44,
     "metadata": {},
     "output_type": "execute_result"
    }
   ],
   "source": [
    "X = pd.Series([-1,2,0,-4,5,6,0,0,-9,10])\n",
    "\n",
    "mask = (X == 2) | (X == 10)\n",
    "X[mask]"
   ]
  },
  {
   "cell_type": "markdown",
   "id": "8903e918-89cb-48a8-9a8b-e57adc62f342",
   "metadata": {},
   "source": [
    "Given the X pandas Series, return True if none of its elements is zero"
   ]
  },
  {
   "cell_type": "code",
   "execution_count": 45,
   "id": "01dacc93-e918-4e11-8a40-167c4de3908f",
   "metadata": {},
   "outputs": [
    {
     "data": {
      "text/plain": [
       "True"
      ]
     },
     "execution_count": 45,
     "metadata": {},
     "output_type": "execute_result"
    }
   ],
   "source": [
    "X = pd.Series([-1,2,0,-4,5,6,0,0,-9,10])\n",
    "\n",
    "X.any()"
   ]
  },
  {
   "cell_type": "markdown",
   "id": "d1c80a00-3da8-4466-8dd1-517873d668b7",
   "metadata": {},
   "source": [
    "Given the X pandas Series, return True if any of its elements is zero"
   ]
  },
  {
   "cell_type": "code",
   "execution_count": 46,
   "id": "4251172e-932f-4a01-9693-21e65c411372",
   "metadata": {},
   "outputs": [
    {
     "data": {
      "text/plain": [
       "True"
      ]
     },
     "execution_count": 46,
     "metadata": {},
     "output_type": "execute_result"
    }
   ],
   "source": [
    "X = pd.Series([-1,2,0,-4,5,6,0,0,-9,10])\n",
    "\n",
    "X.any()"
   ]
  },
  {
   "cell_type": "markdown",
   "id": "9a41be4e-ab65-4570-9ab4-30e27c7dfdfa",
   "metadata": {},
   "source": [
    "Given the X pandas Series, show the sum of its elements"
   ]
  },
  {
   "cell_type": "code",
   "execution_count": 47,
   "id": "9fecab22-eaeb-4309-b4d7-9be55337ff9c",
   "metadata": {},
   "outputs": [
    {
     "data": {
      "text/plain": [
       "43"
      ]
     },
     "execution_count": 47,
     "metadata": {},
     "output_type": "execute_result"
    }
   ],
   "source": [
    "X = pd.Series([3,5,6,7,2,3,4,9,4])\n",
    "\n",
    "#np.sum(X)\n",
    "X.sum()"
   ]
  },
  {
   "cell_type": "markdown",
   "id": "4cf98bb9-a6eb-4e98-bb15-663d12c583f3",
   "metadata": {},
   "source": [
    "Given the X pandas Series, show the mean value of its elements"
   ]
  },
  {
   "cell_type": "code",
   "execution_count": 48,
   "id": "e0121b1b-3c53-4404-ba71-1147accd3f06",
   "metadata": {},
   "outputs": [
    {
     "data": {
      "text/plain": [
       "3.7"
      ]
     },
     "execution_count": 48,
     "metadata": {},
     "output_type": "execute_result"
    }
   ],
   "source": [
    "X = pd.Series([1,2,0,4,5,6,0,0,9,10])\n",
    "\n",
    "#np.mean(X)\n",
    "X.mean()"
   ]
  },
  {
   "cell_type": "markdown",
   "id": "bbea6eb8-87d0-4773-a0e9-e5001b6f69e8",
   "metadata": {},
   "source": [
    "Given the X pandas Series, show the max value of its elements"
   ]
  },
  {
   "cell_type": "code",
   "execution_count": 50,
   "id": "ac83c8cf-5a75-4be7-92f5-b6bde6f786b9",
   "metadata": {},
   "outputs": [
    {
     "data": {
      "text/plain": [
       "10"
      ]
     },
     "execution_count": 50,
     "metadata": {},
     "output_type": "execute_result"
    }
   ],
   "source": [
    "X = pd.Series([1,2,0,4,5,6,0,0,9,10])\n",
    "\n",
    "#np.max(X)\n",
    "X.max()"
   ]
  },
  {
   "cell_type": "code",
   "execution_count": null,
   "id": "78fd75b0-ac19-48cc-adef-35d945b74e0d",
   "metadata": {},
   "outputs": [],
   "source": []
  }
 ],
 "metadata": {
  "kernelspec": {
   "display_name": "Python 3 (ipykernel)",
   "language": "python",
   "name": "python3"
  },
  "language_info": {
   "codemirror_mode": {
    "name": "ipython",
    "version": 3
   },
   "file_extension": ".py",
   "mimetype": "text/x-python",
   "name": "python",
   "nbconvert_exporter": "python",
   "pygments_lexer": "ipython3",
   "version": "3.11.5"
  }
 },
 "nbformat": 4,
 "nbformat_minor": 5
}
